{
 "cells": [
  {
   "cell_type": "code",
   "execution_count": null,
   "id": "2047828f",
   "metadata": {},
   "outputs": [],
   "source": [
    "import pandas as pd\n",
    "import numpy as np\n",
    "import matplotlib.pyplot as plt\n",
    "from sklearn.model_selection import train_test_split\n",
    "from sklearn.svm import SVC\n",
    "from sklearn.metrics import f1_score, accuracy_score, confusion_matrix\n",
    "import seaborn as sns\n",
    "import sys \n",
    "import urllib\n",
    "import urllib.request\n",
    "import joblib"
   ]
  },
  {
   "cell_type": "code",
   "execution_count": null,
   "id": "ece6437b",
   "metadata": {},
   "outputs": [],
   "source": [
    "df=pd.read_csv(\"archive/dataset.csv\")\n",
    "df1=pd.read_csv(\"archive/Symptom-severity.csv\")"
   ]
  },
  {
   "cell_type": "code",
   "execution_count": null,
   "id": "cee9e254",
   "metadata": {},
   "outputs": [],
   "source": [
    "df.shape"
   ]
  },
  {
   "cell_type": "code",
   "execution_count": null,
   "id": "39e3e18c",
   "metadata": {},
   "outputs": [],
   "source": [
    "df.head()\n"
   ]
  },
  {
   "cell_type": "code",
   "execution_count": null,
   "id": "04e459dc",
   "metadata": {},
   "outputs": [],
   "source": [
    "df.drop(\"Disease\",axis=\"columns\",inplace=True)\n",
    "df.head()"
   ]
  },
  {
   "cell_type": "code",
   "execution_count": null,
   "id": "450695a1",
   "metadata": {},
   "outputs": [],
   "source": [
    "df[df[\"Symptom_1\"]==\"itching\"]"
   ]
  },
  {
   "cell_type": "code",
   "execution_count": null,
   "id": "b8a238e3",
   "metadata": {},
   "outputs": [],
   "source": [
    "# print(\"Total Unique symptoms:\" , pd.concat([df[\"Symptom_1\"], df[\"Symptom_2\"],df[\"Symptom_3\"],df[\"Symptom_4\"],df[\"Symptom_5\"],df[\"Symptom_6\"],df[\"Symptom_7\"],df[\"Symptom_8\"],df[\"Symptom_9\"],df[\"Symptom_10\"],df[\"Symptom_11\"],df[\"Symptom_12\"],df[\"Symptom_13\"],df[\"Symptom_14\"],df[\"Symptom_15\"],df[\"Symptom_16\"],df[\"Symptom_17\"]]).unique().__len__())"
   ]
  },
  {
   "cell_type": "code",
   "execution_count": null,
   "id": "ea9d4ed3",
   "metadata": {},
   "outputs": [],
   "source": [
    "#to check all the null values in all the column\n",
    "df.isna().sum()\n",
    "df.isnull().sum()"
   ]
  },
  {
   "cell_type": "code",
   "execution_count": null,
   "id": "21764df3",
   "metadata": {},
   "outputs": [],
   "source": [
    "#As we can see above, Onwards 6 col the no. of null values are increasing."
   ]
  },
  {
   "cell_type": "code",
   "execution_count": null,
   "id": "d8bfde91",
   "metadata": {},
   "outputs": [],
   "source": [
    "#Cleaning Data\n",
    "\n",
    "cols=df.columns  #df.columns return all the columns name/head present in dataset\n",
    "data = df[cols].values.flatten() #Basically flatten the 2d array into 1d array.\n",
    "s = pd.Series(data)\n",
    "s = s.str.strip() #removes any unwanted white space\n",
    "s = s.values.reshape(df.shape) # converts the 1d array into the data shape\n",
    "df = pd.DataFrame(s, columns=df.columns) #modifying original dataset with new cleaned data\n",
    "df = df.fillna(0) #fills 0 in place of null \n",
    "df.tail() #displays data in from tail."
   ]
  },
  {
   "cell_type": "code",
   "execution_count": null,
   "id": "c58b5966",
   "metadata": {},
   "outputs": [],
   "source": [
    "#In section we will encode each symptoms with its severity.\n",
    "#For each symptoms we have weight in the df1 dataset, and we will perform and encoding operation to map its value.\n",
    "\n",
    "vals = df.values  #storing data into vals.\n",
    "symptoms = df1['Symptom'].unique() # storing all the available unique symptoms from 2nd dataset\n",
    "\n",
    "for i in range(len(symptoms)):\n",
    "    vals[vals == symptoms[i]] = df1[df1['Symptom'] == symptoms[i]]['weight'].values[0]\n",
    "\n",
    "d = pd.DataFrame(vals,columns=cols) #creates a new dataset where vals=New encoded symptoms value & cols=og column head/name \n",
    "\n",
    "#Since in df1 we don't have values for symptoms dischromic _patches,foul_smell_of urine and spotting_ urination\n",
    "#we will put 0 inplace of them\n",
    "\n",
    "\n",
    "d = d.replace('dischromic _patches', 0)\n",
    "d = d.replace('spotting_ urination',0)\n",
    "df = d.replace('foul_smell_of urine',0) #replacing and storing in original df\n",
    "\n",
    "df.head()"
   ]
  },
  {
   "cell_type": "code",
   "execution_count": null,
   "id": "071c19ec",
   "metadata": {},
   "outputs": [],
   "source": [
    "# Now lets have a look at the different symptoms, we will need this list for option inputs in front-end\n",
    "symptoms"
   ]
  },
  {
   "cell_type": "code",
   "execution_count": null,
   "id": "fe28c0db",
   "metadata": {},
   "outputs": [],
   "source": [
    "(df[cols] == 0).all()"
   ]
  },
  {
   "cell_type": "code",
   "execution_count": null,
   "id": "8d8813b9",
   "metadata": {},
   "outputs": [],
   "source": [
    "df['Disease'].value_counts()"
   ]
  },
  {
   "cell_type": "code",
   "execution_count": null,
   "id": "68a78841",
   "metadata": {},
   "outputs": [],
   "source": [
    "# These may be referenced later from front end\n",
    "\n",
    "df['Disease'].unique()"
   ]
  },
  {
   "cell_type": "code",
   "execution_count": null,
   "id": "21f04dd6",
   "metadata": {
    "scrolled": true
   },
   "outputs": [],
   "source": [
    "#This is the X param of our model.fit(X,Y)\n",
    "data = df.iloc[:,1:].values\n",
    "data"
   ]
  },
  {
   "cell_type": "code",
   "execution_count": null,
   "id": "629664ef",
   "metadata": {},
   "outputs": [],
   "source": [
    "#This is the Y param of our model(X,Y)\n",
    "labels = df['Disease'].values\n",
    "labels"
   ]
  },
  {
   "cell_type": "code",
   "execution_count": null,
   "id": "7a926954",
   "metadata": {},
   "outputs": [],
   "source": [
    "# Train Test split is done from the dataset\n",
    "x_train, x_test, y_train, y_test = train_test_split(data, labels, shuffle=True, train_size = 0.85)\n",
    "print(x_train.shape, x_test.shape, y_train.shape, y_test.shape)"
   ]
  },
  {
   "cell_type": "code",
   "execution_count": null,
   "id": "f382e8c4",
   "metadata": {},
   "outputs": [],
   "source": [
    "model = SVC()\n",
    "#model.fit(x_train, y_train)"
   ]
  },
  {
   "cell_type": "code",
   "execution_count": null,
   "id": "6eba4e9f",
   "metadata": {},
   "outputs": [],
   "source": [
    "model.fit(data,labels)\n",
    "joblib.dump(model,'medicine-recommender.joblib')"
   ]
  },
  {
   "cell_type": "code",
   "execution_count": null,
   "id": "628c2ff5",
   "metadata": {},
   "outputs": [],
   "source": [
    "x_test"
   ]
  },
  {
   "cell_type": "code",
   "execution_count": null,
   "id": "997ac931",
   "metadata": {
    "scrolled": false
   },
   "outputs": [],
   "source": [
    "preds = model.predict(x_test)\n",
    "preds"
   ]
  },
  {
   "cell_type": "code",
   "execution_count": null,
   "id": "2b141ad6",
   "metadata": {},
   "outputs": [],
   "source": [
    "conf_mat = confusion_matrix(y_test, preds)\n",
    "df_cm = pd.DataFrame(conf_mat, index=df['Disease'].unique(), columns=df['Disease'].unique())\n",
    "print('F1-score% =', f1_score(y_test, preds, average='macro')*100, '|', 'Accuracy% =', accuracy_score(y_test, preds)*100)\n",
    "sns.heatmap(df_cm)"
   ]
  },
  {
   "cell_type": "code",
   "execution_count": null,
   "id": "914499c5",
   "metadata": {},
   "outputs": [],
   "source": [
    "model.predict([[4,3,2,0,0,0,0,0,0,0,0,0,0,0,0,0,0]])"
   ]
  }
 ],
 "metadata": {
  "kernelspec": {
   "display_name": "Python 3.10.6 64-bit",
   "language": "python",
   "name": "python3"
  },
  "language_info": {
   "codemirror_mode": {
    "name": "ipython",
    "version": 3
   },
   "file_extension": ".py",
   "mimetype": "text/x-python",
   "name": "python",
   "nbconvert_exporter": "python",
   "pygments_lexer": "ipython3",
   "version": "3.12.0"
  },
  "vscode": {
   "interpreter": {
    "hash": "7d6993cb2f9ce9a59d5d7380609d9cb5192a9dedd2735a011418ad9e827eb538"
   }
  }
 },
 "nbformat": 4,
 "nbformat_minor": 5
}
